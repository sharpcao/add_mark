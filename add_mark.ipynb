{
 "cells": [
  {
   "cell_type": "code",
   "execution_count": 30,
   "metadata": {},
   "outputs": [],
   "source": [
    "from PIL import Image\n",
    "import os"
   ]
  },
  {
   "cell_type": "code",
   "execution_count": 15,
   "metadata": {},
   "outputs": [],
   "source": [
    "wm = Image.open('./watermask.png')\n",
    "wm = wm.resize((100,100))\n",
    "r,g,b,a = wm.split()"
   ]
  },
  {
   "cell_type": "code",
   "execution_count": 16,
   "metadata": {},
   "outputs": [],
   "source": [
    "pic = Image.open('./pic.jpg')\n",
    "pic = pic.resize((300,300))\n",
    "pic.paste(wm,(200,200),mask =a)"
   ]
  },
  {
   "cell_type": "markdown",
   "metadata": {},
   "source": [
    "# 批量加水印"
   ]
  },
  {
   "cell_type": "code",
   "execution_count": 28,
   "metadata": {},
   "outputs": [],
   "source": [
    "def add_mark(in_fn,out_fn):\n",
    "    wm = Image.open('./watermask.png')\n",
    "    wm = wm.resize((100,100))\n",
    "    r,g,b,a = wm.split()\n",
    "    for x,y in zip(in_fn,out_fn):\n",
    "        pic = Image.open(x)\n",
    "        pic.convert('RGBA')\n",
    "        pic.paste(wm,mask =a)\n",
    "        pic.save(y)\n",
    "        pic.close()\n",
    "        "
   ]
  },
  {
   "cell_type": "code",
   "execution_count": 44,
   "metadata": {},
   "outputs": [],
   "source": [
    "path = \"./data/src/\"\n",
    "out_path = \"./data/out/\"\n",
    "in_fn = [path + x for x in  os.listdir(path)]\n",
    "out_fn = [ out_path + os.path.splitext(x)[0] + '.png'   for x in  os.listdir(path)]"
   ]
  },
  {
   "cell_type": "code",
   "execution_count": 46,
   "metadata": {},
   "outputs": [],
   "source": [
    "add_mark(in_fn,out_fn)"
   ]
  },
  {
   "cell_type": "code",
   "execution_count": null,
   "metadata": {},
   "outputs": [],
   "source": []
  }
 ],
 "metadata": {
  "kernelspec": {
   "display_name": "Python 3",
   "language": "python",
   "name": "python3"
  },
  "language_info": {
   "codemirror_mode": {
    "name": "ipython",
    "version": 3
   },
   "file_extension": ".py",
   "mimetype": "text/x-python",
   "name": "python",
   "nbconvert_exporter": "python",
   "pygments_lexer": "ipython3",
   "version": "3.7.4"
  }
 },
 "nbformat": 4,
 "nbformat_minor": 2
}
